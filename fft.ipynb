{
 "cells": [
  {
   "cell_type": "code",
   "execution_count": 61,
   "metadata": {},
   "outputs": [],
   "source": [
    "from felt import Felt\n",
    "\n",
    "class FFTFelt(Felt):\n",
    "    twiddles = [ Felt(x, 337) for x in [1, 85, 148, 111, 336, 252, 189, 226]]\n",
    "\n",
    "    def __init__(self, val, _prime=None):\n",
    "        super().__init__(val, 337)\n",
    "\n",
    "    "
   ]
  },
  {
   "cell_type": "code",
   "execution_count": 14,
   "metadata": {},
   "outputs": [
    {
     "data": {
      "text/plain": [
       "[Felt(1,337),\n",
       " Felt(85,337),\n",
       " Felt(148,337),\n",
       " Felt(111,337),\n",
       " Felt(336,337),\n",
       " Felt(252,337),\n",
       " Felt(189,337),\n",
       " Felt(226,337)]"
      ]
     },
     "execution_count": 14,
     "metadata": {},
     "output_type": "execute_result"
    }
   ],
   "source": [
    "\n",
    "FFTFelt(5).twiddles"
   ]
  },
  {
   "cell_type": "code",
   "execution_count": 62,
   "metadata": {},
   "outputs": [
    {
     "name": "stdout",
     "output_type": "stream",
     "text": [
      "[Felt(31,337), Felt(70,337), Felt(109,337), Felt(74,337), Felt(334,337), Felt(181,337), Felt(232,337), Felt(4,337)]\n",
      "[Felt(3,337), Felt(1,337), Felt(4,337), Felt(1,337), Felt(5,337), Felt(9,337), Felt(2,337), Felt(6,337)]\n"
     ]
    }
   ],
   "source": [
    "def fft(vals: list[FFTFelt], domain=FFTFelt.twiddles):\n",
    "    if len(vals) == 1:\n",
    "        return vals\n",
    "\n",
    "    odds = fft(vals[1::2],domain[::2])\n",
    "    evens = fft(vals[::2],domain[::2])\n",
    "    ans = [FFTFelt(0)]*len(vals)\n",
    "    length = len(odds)\n",
    "    for i, (o,e) in enumerate(zip(odds,evens)):\n",
    "        ans[i] = e + domain[i] * o\n",
    "        ans[i+length] = e - domain[i] * o\n",
    "    return ans\n",
    "\n",
    "\n",
    "def ifft(vals: list[FFTFelt], domain=FFTFelt.twiddles):\n",
    "    vals = fft(vals, domain)\n",
    "    return [x * FFTFelt(len(vals)).inv() for x in [vals[0]] + vals[1:][::-1]]\n",
    "\n",
    "f = fft([FFTFelt(x) for x in [3,1,4,1,5,9,2,6]])\n",
    "print(f)\n",
    "print(ifft(f))\n"
   ]
  },
  {
   "cell_type": "code",
   "execution_count": 262,
   "metadata": {},
   "outputs": [],
   "source": [
    "from math import log2, sqrt\n",
    "from random import choice\n",
    "\n",
    "\n",
    "def fill(poly, domain):\n",
    "    return poly + [FFTFelt(0) for _ in range(len(domain)-len(poly))]\n",
    "\n",
    "# FRI Commitment Phase\n",
    "poly = fill([ FFTFelt(x) for x in [1,2,3,1]], FFTFelt.twiddles)\n",
    "rounds = int(log2(len(poly)))\n",
    "evals = fft(poly)\n",
    "\n",
    "commitment = dict(zip(FFTFelt.twiddles, evals))\n",
    "\n",
    "\n",
    "test = FFTFelt(189)\n",
    "\n",
    "def commit(poly, r, domain):\n",
    "    odds = [ o * r for o in poly[1::2] ]\n",
    "    evens = poly[::2]\n",
    "    p = fill([ o + e for (o,e) in zip(odds,evens)], domain)\n",
    "    return (p, fft(p, domain))\n",
    "\n",
    "domain = FFTFelt.twiddles\n",
    "#3z+1 and Pi,1(z) = z+2\n",
    "\n",
    "\n",
    "r1 = FFTFelt.random()\n",
    "domain = domain[::2]\n",
    "(poly1,evals) = commit(poly, r1, domain)\n",
    "commitment2 = dict(zip(domain, evals))\n",
    "\n",
    "r2 = FFTFelt.random()\n",
    "domain = domain[::2]\n",
    "(poly2, evals) = commit(poly1, r2, domain)\n",
    "commitment3 = dict(zip(domain, evals))\n",
    "\n",
    "s0 = choice(FFTFelt.twiddles)\n",
    "s1 = s0**2\n",
    "s2 = s1**2\n",
    "\n",
    "#G1(s1) = (x0 − s0) · (s′0 − s0)−1 · G0(s′0) + (x0 − s′0) · (s0 − s′0)−1 · G0(s0).\n",
    "half = len(FFTFelt.twiddles)//2\n",
    "sprime = { x: y for (x,y) in zip(FFTFelt.twiddles, FFTFelt.twiddles[half:]+FFTFelt.twiddles[:half])}\n",
    "\n",
    "#g1 = ()\n",
    "# Gi+1(si+1) = (xi − si) · (s′i − si)−1 · Gi(s′i) + (xi − s′i) · (si − s′i)−1 · Gi(si).\n",
    "# p0(v) = g0(v2) + v · h0(v2) \n",
    "# p0(−v) = g0(v2) − v · h0(v2)\n",
    "p0 = commitment[s0]\n",
    "p0_ = commitment[sprime[s0]]\n",
    "s0_ = sprime[s0]\n",
    "x = s0\n",
    "\n",
    "def next(si, si_, pi, pi_, xi):\n",
    "    return (xi-si)*(si_-si).inv() * pi_+(xi - si_)*(si -si_).inv() * pi\n",
    "s1_ = sprime[s1]\n",
    "s2_ = sprime[s2]\n",
    "\n",
    "p1 = commitment2[s1]\n",
    "p1_ = commitment2[sprime[s1]]\n",
    "#print(next(s0,s0_,p0,p0_,r1),p1)\n",
    "assert(next(s0,s0_,p0,p0_,r1).val == p1.val)\n",
    "p2 = commitment3[s2]\n",
    "p2_ = commitment3[sprime[s2]]\n",
    "#print(p2, commitment3, r2)\n",
    "#print(next(s1,s1_,p1,p1_,r2))\n",
    "assert(next(s1,s1_,p1,p1_,r2) == p2)\n",
    "\n"
   ]
  },
  {
   "cell_type": "code",
   "execution_count": 261,
   "metadata": {},
   "outputs": [
    {
     "data": {
      "text/plain": [
       "270497897142230380135924736767050121217"
      ]
     },
     "execution_count": 261,
     "metadata": {},
     "output_type": "execute_result"
    }
   ],
   "source": [
    "1+407*2**119"
   ]
  },
  {
   "cell_type": "code",
   "execution_count": 276,
   "metadata": {},
   "outputs": [],
   "source": [
    "modulus = 0xFFFFFFFF00000001\n",
    "g = 1753635133440165772"
   ]
  },
  {
   "cell_type": "code",
   "execution_count": 289,
   "metadata": {},
   "outputs": [],
   "source": [
    "modulus\n",
    "gen = Felt(g, modulus)\n",
    "root = gen**(2**23)"
   ]
  },
  {
   "cell_type": "code",
   "execution_count": 290,
   "metadata": {},
   "outputs": [
    {
     "name": "stdout",
     "output_type": "stream",
     "text": [
      "Felt(13797081185216407910,18446744069414584321)\n",
      "Felt(17870292113338400769,18446744069414584321)\n",
      "Felt(549755813888,18446744069414584321)\n",
      "Felt(70368744161280,18446744069414584321)\n",
      "Felt(17293822564807737345,18446744069414584321)\n",
      "Felt(18446744069397807105,18446744069414584321)\n",
      "Felt(281474976710656,18446744069414584321)\n",
      "Felt(18446744069414584320,18446744069414584321)\n",
      "Felt(18446744035054321673,18446744069414584321)\n"
     ]
    }
   ],
   "source": [
    "for i in range(8):\n",
    "    root = root**2\n",
    "    print(root)\n",
    "\n",
    "print(Felt(17870292113338400769,18446744069414584321) * Felt(18446744069397807105,18446744069414584321))"
   ]
  },
  {
   "cell_type": "code",
   "execution_count": 149,
   "metadata": {},
   "outputs": [],
   "source": [
    "from math import ceil, log, log2\n",
    "from random import choice\n",
    "from felt import Felt\n",
    "\n",
    "def zero_pad(poly, domain):\n",
    "    return poly + [GLFelt(0) for _ in range(len(domain)-len(poly))]\n",
    "    \n",
    "def next(si, si_, pi, pi_, xi):\n",
    "    return (xi-si)*(si_-si).inv() * pi_+(xi - si_)*(si -si_).inv() * pi \n",
    "\n",
    "class GLFelt(Felt):\n",
    "    \"\"\" Goldilocks Feild 2^64-2-32+1 with 2^32 roots \"\"\"\n",
    "    def __init__(self, val, _=None):\n",
    "        super().__init__(val,0xFFFFFFFF00000001)\n",
    "    \n",
    "    def roots_of_unity(n):\n",
    "        root = GLFelt(1753635133440165772)\n",
    "        order = 2**32\n",
    "        while order != n:\n",
    "            root = root**2\n",
    "            order = order/2\n",
    "        return [ root ** x for x in range(n) ] \n",
    "    \n",
    "    def fft(vals, domain):\n",
    "        if len(vals) == 1:\n",
    "            return vals\n",
    "\n",
    "        odds = GLFelt.fft(vals[1::2],domain[::2])\n",
    "        evens = GLFelt.fft(vals[::2],domain[::2])\n",
    "        ans = [GLFelt(0)]*len(vals)\n",
    "        length = len(odds)\n",
    "        for i, (o,e) in enumerate(zip(odds,evens)):\n",
    "            ans[i] = e + domain[i] * o\n",
    "            ans[i+length] = e - domain[i] * o\n",
    "        return ans\n",
    "\n",
    "class Fri:\n",
    "    def __init__(self, rate, queries, poly):\n",
    "        self.poly = poly\n",
    "        self.degree = len(poly)\n",
    "        group_size = pow(2, ceil(log(int(1/rate * self.degree))/log(2)))\n",
    "        self.l = GLFelt.roots_of_unity(group_size)\n",
    "        half = len(self.l) // 2\n",
    "        self.s_prime = { x: y for (x,y) in zip(self.l, self.l[half:]+self.l[:half]) }\n",
    "        self.commits = []\n",
    "        self.rs = []\n",
    "        self.queries = queries\n",
    "\n",
    "    def execute(self):\n",
    "        rounds = int(log2(len(self.poly)))\n",
    "        poly = self.poly\n",
    "        domain = self.l\n",
    "        self.commits.append(dict(zip(domain, GLFelt.fft(zero_pad(poly,domain), domain))))\n",
    "        for _ in range(rounds):\n",
    "            r = GLFelt.random()\n",
    "            self.rs.append(r)\n",
    "            domain = domain[::2]\n",
    "            poly = self.commit(poly, r, domain)\n",
    "\n",
    "        for _ in range(self.queries):\n",
    "            s = choice(self.l)\n",
    "            s_ = self.s_prime[s]\n",
    "            for i in range(rounds):\n",
    "                p = self.commits[i][s]\n",
    "                p_ = self.commits[i][s_]\n",
    "                s_2 = s**2\n",
    "                assert(next(s,s_,p,p_,self.rs[i]) == self.commits[i+1][s_2])\n",
    "                s = s_2\n",
    "                s_ = self.s_prime[s]\n",
    "    \n",
    "    def commit(self, poly, r, domain):\n",
    "        odds = [ o * r for o in poly[1::2] ]\n",
    "        evens = poly[::2]\n",
    "        p = zero_pad([ o + e for (o,e) in zip(odds,evens)], domain)\n",
    "        self.commits.append(dict(zip(domain, GLFelt.fft(p, domain))))\n",
    "        return p\n",
    "        \n",
    "\n",
    "Fri(.4, 50, [GLFelt(17),GLFelt(2),GLFelt(3),GLFelt(4), GLFelt(14), GLFelt(27)]).execute()"
   ]
  },
  {
   "cell_type": "code",
   "execution_count": 12,
   "metadata": {},
   "outputs": [
    {
     "data": {
      "text/plain": [
       "18446744069414584321"
      ]
     },
     "execution_count": 12,
     "metadata": {},
     "output_type": "execute_result"
    }
   ],
   "source": [
    "\n",
    "GLFelt(0).prime"
   ]
  }
 ],
 "metadata": {
  "kernelspec": {
   "display_name": "Python 3",
   "language": "python",
   "name": "python3"
  },
  "language_info": {
   "codemirror_mode": {
    "name": "ipython",
    "version": 3
   },
   "file_extension": ".py",
   "mimetype": "text/x-python",
   "name": "python",
   "nbconvert_exporter": "python",
   "pygments_lexer": "ipython3",
   "version": "3.9.9"
  },
  "orig_nbformat": 4,
  "vscode": {
   "interpreter": {
    "hash": "f04e7604787a59532b6b9b7a69bb5cb7da39774761a4248e15b4f6a7edb1314f"
   }
  }
 },
 "nbformat": 4,
 "nbformat_minor": 2
}
