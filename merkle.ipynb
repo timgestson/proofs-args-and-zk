{
 "cells": [
  {
   "cell_type": "code",
   "execution_count": 135,
   "metadata": {},
   "outputs": [],
   "source": [
    "from felt import GLFelt\n",
    "from merkle import Merkle"
   ]
  },
  {
   "cell_type": "code",
   "execution_count": 136,
   "metadata": {},
   "outputs": [
    {
     "data": {
      "text/plain": [
       "True"
      ]
     },
     "execution_count": 136,
     "metadata": {},
     "output_type": "execute_result"
    }
   ],
   "source": [
    "root = Merkle.commit(\n",
    "    Merkle.hash_felts(\n",
    "        [\n",
    "            GLFelt(1),\n",
    "            GLFelt(2),\n",
    "            GLFelt(3),\n",
    "            GLFelt(4),\n",
    "            GLFelt(1),\n",
    "            GLFelt(2),\n",
    "            GLFelt(3),\n",
    "            GLFelt(4),\n",
    "        ]\n",
    "    )\n",
    ")\n",
    "\n",
    "path = Merkle.open(\n",
    "    Merkle.hash_felts(\n",
    "        [\n",
    "            GLFelt(1),\n",
    "            GLFelt(2),\n",
    "            GLFelt(3),\n",
    "            GLFelt(4),\n",
    "            GLFelt(1),\n",
    "            GLFelt(2),\n",
    "            GLFelt(3),\n",
    "            GLFelt(4),\n",
    "        ]\n",
    "    ),\n",
    "    3,\n",
    ")\n",
    "\n",
    "Merkle.verify(root, 3, Merkle.hash_felt(GLFelt(4)), path)"
   ]
  }
 ],
 "metadata": {
  "kernelspec": {
   "display_name": "Python 3",
   "language": "python",
   "name": "python3"
  },
  "language_info": {
   "codemirror_mode": {
    "name": "ipython",
    "version": 3
   },
   "file_extension": ".py",
   "mimetype": "text/x-python",
   "name": "python",
   "nbconvert_exporter": "python",
   "pygments_lexer": "ipython3",
   "version": "3.9.9"
  },
  "orig_nbformat": 4,
  "vscode": {
   "interpreter": {
    "hash": "f04e7604787a59532b6b9b7a69bb5cb7da39774761a4248e15b4f6a7edb1314f"
   }
  }
 },
 "nbformat": 4,
 "nbformat_minor": 2
}
