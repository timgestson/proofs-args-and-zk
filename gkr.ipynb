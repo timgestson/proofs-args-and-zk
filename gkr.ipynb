{
 "cells": [
  {
   "cell_type": "code",
   "execution_count": 6,
   "metadata": {},
   "outputs": [],
   "source": [
    "from math import log2\n",
    "from felt import Felt\n",
    "from sumcheck import SumcheckProtocol, SuperEfficientProver, SuperEfficientVerifier\n",
    "from mle import MultiLinearExtension as MLE\n",
    "from gkr import GKR"
   ]
  },
  {
   "cell_type": "code",
   "execution_count": 7,
   "metadata": {},
   "outputs": [
    {
     "name": "stdout",
     "output_type": "stream",
     "text": [
      "Round 1\n",
      "Round 2 Felt(57553764419126289,2305843009213693951)\n",
      "Round 3 Felt(1088770534571678516,2305843009213693951)\n",
      "Round 4 Felt(2144481077262614411,2305843009213693951)\n",
      "Verfied!\n",
      "Round 1\n",
      "Round 2 Felt(728883414352109154,2305843009213693951)\n",
      "Round 3 Felt(2186109122703896203,2305843009213693951)\n",
      "Round 4 Felt(41627746047198762,2305843009213693951)\n",
      "Verfied!\n",
      "Circuit Verified!\n"
     ]
    }
   ],
   "source": [
    "gkr = GKR(\n",
    "    evals=[\n",
    "        [Felt(36), Felt(6)],\n",
    "        [Felt(9), Felt(4), Felt(6), Felt(1)],\n",
    "        [Felt(3), Felt(2), Felt(3), Felt(1)]\n",
    "    ],\n",
    "    add_wire=[\n",
    "        [],\n",
    "        []\n",
    "    ],\n",
    "    mult_wire=[\n",
    "        [\n",
    "            (0,0,0,0,1),(1,1,0,1,1)\n",
    "        ],\n",
    "        [\n",
    "            (0,0,0,0,0,0),(0,1,0,1,0,1),\n",
    "            (1,0,0,1,1,0),(1,1,1,1,1,1)\n",
    "        ]\n",
    "    ]\n",
    ")\n",
    "gkr.execute_protocol()"
   ]
  },
  {
   "cell_type": "code",
   "execution_count": 13,
   "metadata": {},
   "outputs": [
    {
     "name": "stdout",
     "output_type": "stream",
     "text": [
      "Round 1\n",
      "Round 2 Felt(2190236306415792018,2305843009213693951)\n",
      "Round 3 Felt(1382703409004376281,2305843009213693951)\n",
      "Round 4 Felt(1107691636152419018,2305843009213693951)\n",
      "Verfied!\n",
      "Round 1\n",
      "Round 2 Felt(1616614643489541248,2305843009213693951)\n",
      "Round 3 Felt(2289718021701470749,2305843009213693951)\n",
      "Round 4 Felt(1061404490950932821,2305843009213693951)\n",
      "Verfied!\n",
      "Round 1\n",
      "Round 2 Felt(850143486556801520,2305843009213693951)\n",
      "Round 3 Felt(976500882514725130,2305843009213693951)\n",
      "Round 4 Felt(121650722896849755,2305843009213693951)\n",
      "Verfied!\n",
      "Circuit Verified!\n"
     ]
    }
   ],
   "source": [
    "gkr = GKR(\n",
    "    evals=[\n",
    "        [Felt(10), Felt(6)],\n",
    "        [Felt(6), Felt(4), Felt(6), Felt(1)],\n",
    "        [Felt(3), Felt(2), Felt(3), Felt(1)],\n",
    "        [Felt(1), Felt(2), Felt(0), Felt(0)]\n",
    "    ],\n",
    "    add_wire=[\n",
    "        [(0,0,0,0,1)],\n",
    "        [(0,0,0,0,0,0)],\n",
    "        [(0,0,0,0,0,1),(1,0,0,0,0,1)]\n",
    "    ],\n",
    "    mult_wire=[\n",
    "        [\n",
    "            (1,1,0,1,1)\n",
    "        ],\n",
    "        [\n",
    "            (0,1,0,1,0,1),\n",
    "            (1,0,0,1,1,0),\n",
    "            (1,1,1,1,1,1)\n",
    "        ],\n",
    "        [(1,1,0,0,0,0),(0,1,0,0,0,1)]\n",
    "    ]\n",
    ")\n",
    "gkr.execute_protocol()"
   ]
  }
 ],
 "metadata": {
  "kernelspec": {
   "display_name": "Python 3",
   "language": "python",
   "name": "python3"
  },
  "language_info": {
   "codemirror_mode": {
    "name": "ipython",
    "version": 3
   },
   "file_extension": ".py",
   "mimetype": "text/x-python",
   "name": "python",
   "nbconvert_exporter": "python",
   "pygments_lexer": "ipython3",
   "version": "3.9.9"
  },
  "orig_nbformat": 4,
  "vscode": {
   "interpreter": {
    "hash": "f04e7604787a59532b6b9b7a69bb5cb7da39774761a4248e15b4f6a7edb1314f"
   }
  }
 },
 "nbformat": 4,
 "nbformat_minor": 2
}
