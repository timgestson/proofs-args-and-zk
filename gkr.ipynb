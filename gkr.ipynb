{
 "cells": [
  {
   "cell_type": "code",
   "execution_count": 1,
   "metadata": {},
   "outputs": [],
   "source": [
    "from felt import Felt\n",
    "from gkr import GKR"
   ]
  },
  {
   "cell_type": "code",
   "execution_count": 2,
   "metadata": {},
   "outputs": [
    {
     "name": "stdout",
     "output_type": "stream",
     "text": [
      "Round 1\n",
      "Round 2\n",
      "Round 3\n",
      "Round 4\n",
      "Verfied!\n",
      "Round 1\n",
      "Round 2\n",
      "Round 3\n",
      "Round 4\n",
      "Verfied!\n",
      "Circuit Verified!\n"
     ]
    }
   ],
   "source": [
    "gkr = GKR(\n",
    "    evals=[\n",
    "        [Felt(36), Felt(6)],\n",
    "        [Felt(9), Felt(4), Felt(6), Felt(1)],\n",
    "        [Felt(3), Felt(2), Felt(3), Felt(1)],\n",
    "    ],\n",
    "    add_wire=[[], []],\n",
    "    mult_wire=[\n",
    "        [(0, 0, 0, 0, 1), (1, 1, 0, 1, 1)],\n",
    "        [\n",
    "            (0, 0, 0, 0, 0, 0),\n",
    "            (0, 1, 0, 1, 0, 1),\n",
    "            (1, 0, 0, 1, 1, 0),\n",
    "            (1, 1, 1, 1, 1, 1),\n",
    "        ],\n",
    "    ],\n",
    ")\n",
    "gkr.execute_protocol()"
   ]
  },
  {
   "cell_type": "code",
   "execution_count": 3,
   "metadata": {},
   "outputs": [
    {
     "name": "stdout",
     "output_type": "stream",
     "text": [
      "Round 1\n",
      "Round 2\n",
      "Round 3\n",
      "Round 4\n",
      "Verfied!\n",
      "Round 1\n",
      "Round 2\n",
      "Round 3\n",
      "Round 4\n",
      "Verfied!\n",
      "Round 1\n",
      "Round 2\n",
      "Round 3\n",
      "Round 4\n",
      "Verfied!\n",
      "Circuit Verified!\n"
     ]
    }
   ],
   "source": [
    "gkr = GKR(\n",
    "    evals=[\n",
    "        [Felt(10), Felt(6)],\n",
    "        [Felt(6), Felt(4), Felt(6), Felt(1)],\n",
    "        [Felt(3), Felt(2), Felt(3), Felt(1)],\n",
    "        [Felt(1), Felt(2), Felt(0), Felt(0)],\n",
    "    ],\n",
    "    add_wire=[\n",
    "        [(0, 0, 0, 0, 1)],\n",
    "        [(0, 0, 0, 0, 0, 0)],\n",
    "        [(0, 0, 0, 0, 0, 1), (1, 0, 0, 0, 0, 1)],\n",
    "    ],\n",
    "    mult_wire=[\n",
    "        [(1, 1, 0, 1, 1)],\n",
    "        [(0, 1, 0, 1, 0, 1), (1, 0, 0, 1, 1, 0), (1, 1, 1, 1, 1, 1)],\n",
    "        [(1, 1, 0, 0, 0, 0), (0, 1, 0, 0, 0, 1)],\n",
    "    ],\n",
    ")\n",
    "gkr.execute_protocol()"
   ]
  }
 ],
 "metadata": {
  "kernelspec": {
   "display_name": "Python 3",
   "language": "python",
   "name": "python3"
  },
  "language_info": {
   "codemirror_mode": {
    "name": "ipython",
    "version": 3
   },
   "file_extension": ".py",
   "mimetype": "text/x-python",
   "name": "python",
   "nbconvert_exporter": "python",
   "pygments_lexer": "ipython3",
   "version": "3.9.9"
  },
  "orig_nbformat": 4,
  "vscode": {
   "interpreter": {
    "hash": "f04e7604787a59532b6b9b7a69bb5cb7da39774761a4248e15b4f6a7edb1314f"
   }
  }
 },
 "nbformat": 4,
 "nbformat_minor": 2
}
