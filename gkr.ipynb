{
 "cells": [
  {
   "cell_type": "code",
   "execution_count": 1,
   "metadata": {},
   "outputs": [],
   "source": [
    "from felt import Felt\n",
    "from gkr import GKR"
   ]
  },
  {
   "cell_type": "code",
   "execution_count": 2,
   "metadata": {},
   "outputs": [
    {
     "name": "stdout",
     "output_type": "stream",
     "text": [
      "Round 1\n",
      "Round 2\n",
      "Round 3\n",
      "Round 4\n",
      "Verfied!\n",
      "Round 1\n",
      "Round 2\n",
      "Round 3\n",
      "Round 4\n",
      "Verfied!\n",
      "Circuit Verified!\n"
     ]
    }
   ],
   "source": [
    "gkr = GKR(\n",
    "    evals=[\n",
    "        [Felt(36), Felt(6)],\n",
    "        [Felt(9), Felt(4), Felt(6), Felt(1)],\n",
    "        [Felt(3), Felt(2), Felt(3), Felt(1)],\n",
    "    ],\n",
    "    add_wire=[[], []],\n",
    "    mult_wire=[\n",
    "        [0b00001, 0b11011],\n",
    "        [\n",
    "            0b000000,\n",
    "            0b010101,\n",
    "            0b100110,\n",
    "            0b111111,\n",
    "        ],\n",
    "    ],\n",
    ")\n",
    "gkr.execute_protocol()"
   ]
  },
  {
   "cell_type": "code",
   "execution_count": 5,
   "metadata": {},
   "outputs": [
    {
     "name": "stdout",
     "output_type": "stream",
     "text": [
      "Round 1\n",
      "Round 2\n",
      "Round 3\n",
      "Round 4\n",
      "Verfied!\n",
      "Round 1\n",
      "Round 2\n",
      "Round 3\n",
      "Round 4\n",
      "Verfied!\n",
      "Round 1\n",
      "Round 2\n",
      "Round 3\n",
      "Round 4\n",
      "Verfied!\n",
      "Circuit Verified!\n"
     ]
    }
   ],
   "source": [
    "gkr = GKR(\n",
    "    evals=[\n",
    "        [Felt(10), Felt(6)],\n",
    "        [Felt(6), Felt(4), Felt(6), Felt(1)],\n",
    "        [Felt(3), Felt(2), Felt(3), Felt(1)],\n",
    "        [Felt(1), Felt(2), Felt(0), Felt(0)],\n",
    "    ],\n",
    "    add_wire=[\n",
    "        [0b00001],\n",
    "        [0b000000],\n",
    "        [0b000001, 0b100001],\n",
    "    ],\n",
    "    mult_wire=[\n",
    "        [0b11011],\n",
    "        [0b010101, 0b100110, 0b111111],\n",
    "        [0b110000, 0b010001],\n",
    "    ],\n",
    ")\n",
    "gkr.execute_protocol()"
   ]
  }
 ],
 "metadata": {
  "kernelspec": {
   "display_name": "Python 3",
   "language": "python",
   "name": "python3"
  },
  "language_info": {
   "codemirror_mode": {
    "name": "ipython",
    "version": 3
   },
   "file_extension": ".py",
   "mimetype": "text/x-python",
   "name": "python",
   "nbconvert_exporter": "python",
   "pygments_lexer": "ipython3",
   "version": "3.9.9"
  },
  "orig_nbformat": 4,
  "vscode": {
   "interpreter": {
    "hash": "f04e7604787a59532b6b9b7a69bb5cb7da39774761a4248e15b4f6a7edb1314f"
   }
  }
 },
 "nbformat": 4,
 "nbformat_minor": 2
}
