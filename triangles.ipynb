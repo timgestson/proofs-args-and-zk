{
 "cells": [
  {
   "cell_type": "code",
   "execution_count": 1,
   "metadata": {},
   "outputs": [],
   "source": [
    "from util import flatten\n",
    "from felt import Felt\n",
    "from triangles import TriangleProver, TriangleVerifier\n"
   ]
  },
  {
   "cell_type": "code",
   "execution_count": 2,
   "metadata": {},
   "outputs": [],
   "source": [
    "class Graph(dict):\n",
    "    def __init__(self, graph):\n",
    "        super().__init__(graph)\n",
    "\n",
    "    def toAdjacencyMatrix(self):\n",
    "        n = len(self)\n",
    "        matrix = [[0] * n for _ in range(n)]\n",
    "        for i in range(n):\n",
    "            for j in range(n):\n",
    "                matrix[i][j] = (\n",
    "                    1 if j in self[i] else 0\n",
    "                )\n",
    "        return matrix"
   ]
  },
  {
   "cell_type": "code",
   "execution_count": 3,
   "metadata": {},
   "outputs": [
    {
     "data": {
      "text/plain": [
       "2"
      ]
     },
     "execution_count": 3,
     "metadata": {},
     "output_type": "execute_result"
    }
   ],
   "source": [
    "g = Graph({0: {1, 2}, 1: {2, 0, 3}, 2: {0, 1, 3}, 3: {2, 1}})\n",
    "# square bisected (2 triangles)\n",
    "m = g.toAdjacencyMatrix()\n",
    "\n",
    "n = len(m)\n",
    "\n",
    "m2 = [[0] * n for _ in range(n)]\n",
    "\n",
    "for i in range(n):\n",
    "    for j in range(n):\n",
    "        for k in range(n):\n",
    "            m2[i][j] += m[i][k] * m[k][j]\n",
    "c = 0\n",
    "\n",
    "for i in range(n):\n",
    "    for j in range(n):\n",
    "        c += m[i][j] * m2[i][j]\n",
    "\n",
    "c // 6"
   ]
  },
  {
   "cell_type": "code",
   "execution_count": 4,
   "metadata": {},
   "outputs": [],
   "source": [
    "m = [ Felt(i) for i in flatten(m) ]\n",
    "m2 = [ Felt(i) for i in flatten(m2) ]"
   ]
  },
  {
   "cell_type": "code",
   "execution_count": 5,
   "metadata": {},
   "outputs": [],
   "source": [
    "prover = TriangleProver(m, m2, Felt(c))\n",
    "proof = prover.prove()\n",
    "\n",
    "verifier = TriangleVerifier(proof)\n",
    "verifier.verify()\n"
   ]
  },
  {
   "cell_type": "code",
   "execution_count": 9,
   "metadata": {},
   "outputs": [
    {
     "ename": "TypeError",
     "evalue": "unsupported operand type(s) for @: 'list' and 'list'",
     "output_type": "error",
     "traceback": [
      "\u001b[0;31m---------------------------------------------------------------------------\u001b[0m",
      "\u001b[0;31mTypeError\u001b[0m                                 Traceback (most recent call last)",
      "\u001b[0;32m/var/folders/3n/96w44k6j1wq30hql7pshs4jw0000gn/T/ipykernel_61472/495063538.py\u001b[0m in \u001b[0;36m<module>\u001b[0;34m\u001b[0m\n\u001b[1;32m      5\u001b[0m \u001b[0mn\u001b[0m \u001b[0;34m=\u001b[0m \u001b[0mlen\u001b[0m\u001b[0;34m(\u001b[0m\u001b[0mm\u001b[0m\u001b[0;34m)\u001b[0m\u001b[0;34m\u001b[0m\u001b[0;34m\u001b[0m\u001b[0m\n\u001b[1;32m      6\u001b[0m \u001b[0;34m\u001b[0m\u001b[0m\n\u001b[0;32m----> 7\u001b[0;31m \u001b[0mm2\u001b[0m \u001b[0;34m=\u001b[0m \u001b[0mm\u001b[0m \u001b[0;34m@\u001b[0m \u001b[0mm\u001b[0m\u001b[0;34m\u001b[0m\u001b[0;34m\u001b[0m\u001b[0m\n\u001b[0m\u001b[1;32m      8\u001b[0m \u001b[0;34m\u001b[0m\u001b[0m\n\u001b[1;32m      9\u001b[0m \u001b[0mc\u001b[0m \u001b[0;34m=\u001b[0m \u001b[0;36m0\u001b[0m\u001b[0;34m\u001b[0m\u001b[0;34m\u001b[0m\u001b[0m\n",
      "\u001b[0;31mTypeError\u001b[0m: unsupported operand type(s) for @: 'list' and 'list'"
     ]
    }
   ],
   "source": [
    "g = Graph({0: {1,2}, 1: {2,0}, 2: {0,1}, 3:{}})\n",
    "\n",
    "m = g.toAdjacencyMatrix()\n",
    "\n",
    "n = len(m)\n",
    "\n",
    "m2 = [[0] * n for _ in range(n)]\n",
    "\n",
    "for i in range(n):\n",
    "    for j in range(n):\n",
    "        for k in range(n):\n",
    "            m2[i][j] += m[i][k] * m[k][j]\n",
    "c = 0\n",
    "\n",
    "for i in range(n):\n",
    "    for j in range(n):\n",
    "        c += m[i][j] * m2[i][j]\n",
    "\n",
    "c // 6"
   ]
  },
  {
   "cell_type": "code",
   "execution_count": 7,
   "metadata": {},
   "outputs": [],
   "source": [
    "m = [ Felt(i) for i in flatten(m) ]\n",
    "m2 = [ Felt(i) for i in flatten(m2) ]"
   ]
  },
  {
   "cell_type": "code",
   "execution_count": 8,
   "metadata": {},
   "outputs": [],
   "source": [
    "prover = TriangleProver(m, m2, Felt(c))\n",
    "proof = prover.prove()\n",
    "\n",
    "verifier = TriangleVerifier(proof)\n",
    "verifier.verify()"
   ]
  }
 ],
 "metadata": {
  "kernelspec": {
   "display_name": "Python 3",
   "language": "python",
   "name": "python3"
  },
  "language_info": {
   "codemirror_mode": {
    "name": "ipython",
    "version": 3
   },
   "file_extension": ".py",
   "mimetype": "text/x-python",
   "name": "python",
   "nbconvert_exporter": "python",
   "pygments_lexer": "ipython3",
   "version": "3.9.9"
  },
  "orig_nbformat": 4,
  "vscode": {
   "interpreter": {
    "hash": "f04e7604787a59532b6b9b7a69bb5cb7da39774761a4248e15b4f6a7edb1314f"
   }
  }
 },
 "nbformat": 4,
 "nbformat_minor": 2
}
