{
 "cells": [
  {
   "cell_type": "code",
   "execution_count": 1,
   "metadata": {},
   "outputs": [],
   "source": [
    "from util import flatten, hypercube\n",
    "from mle import MultiLinearExtension\n",
    "from felt import Felt\n",
    "from sumcheck import SumcheckProtocol"
   ]
  },
  {
   "cell_type": "code",
   "execution_count": 2,
   "metadata": {},
   "outputs": [],
   "source": [
    "class Graph(dict):\n",
    "    def __init__(self, graph, prime=2**61 - 1):\n",
    "        super().__init__(graph)\n",
    "        self.prime = prime\n",
    "\n",
    "    def toAdjacencyMatrix(self):\n",
    "        n = len(self)\n",
    "        matrix = [[0] * n for _ in range(n)]\n",
    "        for i in range(n):\n",
    "            for j in range(n):\n",
    "                matrix[i][j] = (\n",
    "                    Felt(1, self.prime) if j in self[i] else Felt(0, self.prime)\n",
    "                )\n",
    "        return matrix"
   ]
  },
  {
   "cell_type": "code",
   "execution_count": 3,
   "metadata": {},
   "outputs": [],
   "source": [
    "g = Graph({0: {1, 2}, 1: {2, 0, 3}, 2: {0, 1, 3}, 3: {2, 1}})\n",
    "# square bisected (2 triangles)\n",
    "m = g.toAdjacencyMatrix()\n",
    "\n",
    "vec = flatten(m)\n",
    "adjacency_mle = MultiLinearExtension(vec)"
   ]
  },
  {
   "cell_type": "code",
   "execution_count": 4,
   "metadata": {},
   "outputs": [
    {
     "name": "stdout",
     "output_type": "stream",
     "text": [
      "Round 1\n",
      "Round 2\n",
      "Round 3\n",
      "Round 4\n",
      "Round 5\n",
      "Round 6\n",
      "Verfied!\n"
     ]
    }
   ],
   "source": [
    "# f(x,y) * f(x,z) * f(x,z)\n",
    "g = MultiLinearExtension(\n",
    "    [\n",
    "        adjacency_mle.eval(h[:2] + h[2:4])\n",
    "        * adjacency_mle.eval(h[2:4] + h[4:])\n",
    "        * adjacency_mle.eval(h[:2] + h[4:])\n",
    "        for h in hypercube(6)\n",
    "    ]\n",
    ")\n",
    "\n",
    "SumcheckProtocol(Felt(12), g.evals, 2, lambda x: g.eval(x)).execute()\n",
    "pass"
   ]
  },
  {
   "cell_type": "code",
   "execution_count": 5,
   "metadata": {},
   "outputs": [],
   "source": [
    "g = Graph(\n",
    "    {\n",
    "        0: {1},\n",
    "        1: {0},\n",
    "        2: {0},\n",
    "    }\n",
    ")\n",
    "# no triangles\n",
    "m = g.toAdjacencyMatrix()\n",
    "\n",
    "vec = flatten(m)\n",
    "mle = MultiLinearExtension(vec)"
   ]
  },
  {
   "cell_type": "code",
   "execution_count": 6,
   "metadata": {},
   "outputs": [
    {
     "name": "stdout",
     "output_type": "stream",
     "text": [
      "Round 1\n",
      "Round 2\n",
      "Round 3\n",
      "Round 4\n",
      "Round 5\n",
      "Round 6\n",
      "Verfied!\n"
     ]
    }
   ],
   "source": [
    "g = MultiLinearExtension(\n",
    "    [\n",
    "        # f(x,y) * f(x,z) * f(x,z)\n",
    "        mle.eval(h[:2] + h[2:4]) * mle.eval(h[2:4] + h[4:]) * mle.eval(h[:2] + h[4:])\n",
    "        for h in hypercube(6)\n",
    "    ]\n",
    ")\n",
    "\n",
    "SumcheckProtocol(Felt(0), g.evals, 2, lambda x: g.eval(x)).execute()\n",
    "pass"
   ]
  }
 ],
 "metadata": {
  "kernelspec": {
   "display_name": "Python 3",
   "language": "python",
   "name": "python3"
  },
  "language_info": {
   "codemirror_mode": {
    "name": "ipython",
    "version": 3
   },
   "file_extension": ".py",
   "mimetype": "text/x-python",
   "name": "python",
   "nbconvert_exporter": "python",
   "pygments_lexer": "ipython3",
   "version": "3.9.9"
  },
  "orig_nbformat": 4,
  "vscode": {
   "interpreter": {
    "hash": "f04e7604787a59532b6b9b7a69bb5cb7da39774761a4248e15b4f6a7edb1314f"
   }
  }
 },
 "nbformat": 4,
 "nbformat_minor": 2
}
