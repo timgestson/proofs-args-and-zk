{
 "cells": [
  {
   "cell_type": "code",
   "execution_count": 1,
   "metadata": {},
   "outputs": [],
   "source": [
    "from math import log2\n",
    "from util import flatten\n",
    "from hypercube import Hypercube\n",
    "from mle import MultiLinearExtension\n",
    "from felt import Felt\n",
    "from sumcheck import SumcheckProtocol, SumcheckProver, SumcheckVerifier"
   ]
  },
  {
   "cell_type": "code",
   "execution_count": 2,
   "metadata": {},
   "outputs": [],
   "source": [
    "class Graph(dict):\n",
    "    def __init__(self, graph, prime=2**61 - 1):\n",
    "        super().__init__(graph)\n",
    "        self.prime = prime\n",
    "\n",
    "    def toAdjacencyMatrix(self):\n",
    "        n = len(self)\n",
    "        matrix = [[0] * n for _ in range(n)]\n",
    "        for i in range(n):\n",
    "            for j in range(n):\n",
    "                matrix[i][j] = (\n",
    "                    Felt(1, self.prime) if j in self[i] else Felt(0, self.prime)\n",
    "                )\n",
    "        return matrix"
   ]
  },
  {
   "cell_type": "code",
   "execution_count": 3,
   "metadata": {},
   "outputs": [],
   "source": [
    "g = Graph({0: {1, 2}, 1: {2, 0, 3}, 2: {0, 1, 3}, 3: {2, 1}})\n",
    "# square bisected (2 triangles)\n",
    "m = g.toAdjacencyMatrix()\n",
    "\n",
    "vec = flatten(m)\n",
    "adjacency_mle = MultiLinearExtension(vec)"
   ]
  },
  {
   "cell_type": "code",
   "execution_count": 4,
   "metadata": {},
   "outputs": [
    {
     "ename": "NameError",
     "evalue": "name 'SuperEfficientVerifier' is not defined",
     "output_type": "error",
     "traceback": [
      "\u001b[0;31m---------------------------------------------------------------------------\u001b[0m",
      "\u001b[0;31mNameError\u001b[0m                                 Traceback (most recent call last)",
      "\u001b[0;32m/var/folders/3n/96w44k6j1wq30hql7pshs4jw0000gn/T/ipykernel_48592/2392144816.py\u001b[0m in \u001b[0;36m<module>\u001b[0;34m\u001b[0m\n\u001b[1;32m     10\u001b[0m \u001b[0;34m\u001b[0m\u001b[0m\n\u001b[1;32m     11\u001b[0m sc = SumcheckProtocol(\n\u001b[0;32m---> 12\u001b[0;31m     \u001b[0mverifier\u001b[0m\u001b[0;34m=\u001b[0m\u001b[0mSuperEfficientVerifier\u001b[0m\u001b[0;34m(\u001b[0m\u001b[0;36m2\u001b[0m\u001b[0;34m,\u001b[0m \u001b[0;32mlambda\u001b[0m \u001b[0mx\u001b[0m\u001b[0;34m:\u001b[0m \u001b[0mg\u001b[0m\u001b[0;34m.\u001b[0m\u001b[0meval\u001b[0m\u001b[0;34m(\u001b[0m\u001b[0mx\u001b[0m\u001b[0;34m)\u001b[0m\u001b[0;34m)\u001b[0m\u001b[0;34m,\u001b[0m\u001b[0;34m\u001b[0m\u001b[0;34m\u001b[0m\u001b[0m\n\u001b[0m\u001b[1;32m     13\u001b[0m     \u001b[0mprover\u001b[0m\u001b[0;34m=\u001b[0m\u001b[0mSuperEfficientProver\u001b[0m\u001b[0;34m(\u001b[0m\u001b[0mg\u001b[0m\u001b[0;34m.\u001b[0m\u001b[0mevals\u001b[0m\u001b[0;34m,\u001b[0m \u001b[0mFelt\u001b[0m\u001b[0;34m(\u001b[0m\u001b[0;36m12\u001b[0m\u001b[0;34m)\u001b[0m\u001b[0;34m,\u001b[0m \u001b[0;36m2\u001b[0m\u001b[0;34m)\u001b[0m\u001b[0;34m,\u001b[0m\u001b[0;34m\u001b[0m\u001b[0;34m\u001b[0m\u001b[0m\n\u001b[1;32m     14\u001b[0m     \u001b[0mvariables\u001b[0m\u001b[0;34m=\u001b[0m\u001b[0mint\u001b[0m\u001b[0;34m(\u001b[0m\u001b[0mlog2\u001b[0m\u001b[0;34m(\u001b[0m\u001b[0mlen\u001b[0m\u001b[0;34m(\u001b[0m\u001b[0mg\u001b[0m\u001b[0;34m.\u001b[0m\u001b[0mevals\u001b[0m\u001b[0;34m)\u001b[0m\u001b[0;34m)\u001b[0m\u001b[0;34m)\u001b[0m\u001b[0;34m,\u001b[0m\u001b[0;34m\u001b[0m\u001b[0;34m\u001b[0m\u001b[0m\n",
      "\u001b[0;31mNameError\u001b[0m: name 'SuperEfficientVerifier' is not defined"
     ]
    }
   ],
   "source": [
    "# f(x,y) * f(x,z) * f(x,z)\n",
    "g = MultiLinearExtension(\n",
    "    [\n",
    "        adjacency_mle.eval(h[:2] + h[2:4])\n",
    "        * adjacency_mle.eval(h[2:4] + h[4:])\n",
    "        * adjacency_mle.eval(h[:2] + h[4:])\n",
    "        for h in Hypercube(6)\n",
    "    ]\n",
    ")\n",
    "\n",
    "sc = SumcheckProtocol(\n",
    "    verifier=SumcheckVerifier(2, lambda x: g.eval(x)),\n",
    "    prover=SumcheckProver(g.evals, Felt(12), 2),\n",
    "    variables=int(log2(len(g.evals))),\n",
    ")\n",
    "sc.execute()\n",
    "pass"
   ]
  },
  {
   "cell_type": "code",
   "execution_count": null,
   "metadata": {},
   "outputs": [],
   "source": [
    "g = Graph(\n",
    "    {\n",
    "        0: {1},\n",
    "        1: {0},\n",
    "        2: {0},\n",
    "    }\n",
    ")\n",
    "# no triangles\n",
    "m = g.toAdjacencyMatrix()\n",
    "\n",
    "vec = flatten(m)\n",
    "mle = MultiLinearExtension(vec)"
   ]
  },
  {
   "cell_type": "code",
   "execution_count": null,
   "metadata": {},
   "outputs": [
    {
     "name": "stdout",
     "output_type": "stream",
     "text": [
      "Round 1\n",
      "Round 2\n",
      "Round 3\n",
      "Round 4\n",
      "Round 5\n",
      "Round 6\n",
      "Verfied!\n"
     ]
    }
   ],
   "source": [
    "g = MultiLinearExtension(\n",
    "    [\n",
    "        # f(x,y) * f(x,z) * f(x,z)\n",
    "        mle.eval(h[:2] + h[2:4]) * mle.eval(h[2:4] + h[4:]) * mle.eval(h[:2] + h[4:])\n",
    "        for h in Hypercube(6)\n",
    "    ]\n",
    ")\n",
    "\n",
    "sc = SumcheckProtocol(\n",
    "    verifier=SumcheckVerifier(2, lambda x: g.eval(x)),\n",
    "    prover=SumcheckProver(g.evals, Felt(0), 2),\n",
    "    variables=int(log2(len(g.evals))),\n",
    ")\n",
    "sc.execute()\n",
    "pass"
   ]
  }
 ],
 "metadata": {
  "kernelspec": {
   "display_name": "Python 3",
   "language": "python",
   "name": "python3"
  },
  "language_info": {
   "codemirror_mode": {
    "name": "ipython",
    "version": 3
   },
   "file_extension": ".py",
   "mimetype": "text/x-python",
   "name": "python",
   "nbconvert_exporter": "python",
   "pygments_lexer": "ipython3",
   "version": "3.9.9"
  },
  "orig_nbformat": 4,
  "vscode": {
   "interpreter": {
    "hash": "f04e7604787a59532b6b9b7a69bb5cb7da39774761a4248e15b4f6a7edb1314f"
   }
  }
 },
 "nbformat": 4,
 "nbformat_minor": 2
}
