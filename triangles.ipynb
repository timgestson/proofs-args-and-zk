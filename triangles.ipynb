{
 "cells": [
  {
   "cell_type": "code",
   "execution_count": 3,
   "metadata": {},
   "outputs": [],
   "source": [
    "from math import log2\n",
    "from util import flatten\n",
    "from hypercube import Hypercube\n",
    "from mle import MultiLinearExtension\n",
    "from felt import Felt\n",
    "from sumcheck import SumcheckProtocol, SuperEfficientProver, SuperEfficientVerifier"
   ]
  },
  {
   "cell_type": "code",
   "execution_count": 4,
   "metadata": {},
   "outputs": [],
   "source": [
    "class Graph(dict):\n",
    "    def __init__(self, graph, prime=2**61-1):\n",
    "        super().__init__(graph)\n",
    "        self.prime = prime\n",
    "    \n",
    "    def toAdjacencyMatrix(self):\n",
    "        n = len(self)\n",
    "        matrix = [ [0] * n for _ in range(n) ]\n",
    "        for i in range(n):\n",
    "            for j in range(n):\n",
    "                matrix[i][j] = Felt(1, self.prime) if j in self[i] else Felt(0, self.prime)\n",
    "        return matrix"
   ]
  },
  {
   "cell_type": "code",
   "execution_count": 5,
   "metadata": {},
   "outputs": [],
   "source": [
    "g = Graph({\n",
    "    0: {1,2},\n",
    "    1: {2,0,3},\n",
    "    2: {0,1,3},\n",
    "    3: {2,1}\n",
    "})\n",
    "# square bisected (2 triangles)\n",
    "m = g.toAdjacencyMatrix()\n",
    "\n",
    "vec = flatten(m)\n",
    "adjacency_mle = MultiLinearExtension(vec)"
   ]
  },
  {
   "cell_type": "code",
   "execution_count": 6,
   "metadata": {},
   "outputs": [
    {
     "name": "stdout",
     "output_type": "stream",
     "text": [
      "Round 1\n",
      "Round 2\n",
      "Round 3\n",
      "Round 4\n",
      "Round 5\n",
      "Round 6\n",
      "Verfied!\n"
     ]
    }
   ],
   "source": [
    "# f(x,y) * f(x,z) * f(x,z)\n",
    "g = MultiLinearExtension([\n",
    "    adjacency_mle.eval(h[:2]+h[2:4]) * adjacency_mle.eval(h[2:4]+h[4:]) * adjacency_mle.eval(h[:2]+h[4:])\n",
    "    for h in Hypercube(6)\n",
    "])\n",
    "\n",
    "sc = SumcheckProtocol(\n",
    "    verifier=SuperEfficientVerifier(2,lambda x: g.eval(x)),\n",
    "    prover=SuperEfficientProver(g.evals,Felt(12),2),\n",
    "    variables=int(log2(len(g.evals))),\n",
    ")\n",
    "sc.execute()\n",
    "pass"
   ]
  },
  {
   "cell_type": "code",
   "execution_count": 7,
   "metadata": {},
   "outputs": [],
   "source": [
    "g = Graph({\n",
    "    0: {1},\n",
    "    1: {0},\n",
    "    2: {0},\n",
    "})\n",
    "# simple triangle\n",
    "m = g.toAdjacencyMatrix()\n",
    "\n",
    "vec = flatten(m)\n",
    "mle = MultiLinearExtension(vec)"
   ]
  },
  {
   "cell_type": "code",
   "execution_count": 8,
   "metadata": {},
   "outputs": [
    {
     "name": "stdout",
     "output_type": "stream",
     "text": [
      "Round 1\n",
      "Round 2\n",
      "Round 3\n",
      "Round 4\n",
      "Round 5\n",
      "Round 6\n",
      "Verfied!\n"
     ]
    }
   ],
   "source": [
    "g = MultiLinearExtension([\n",
    "    # f(x,y) * f(x,z) * f(x,z)\n",
    "    mle.eval(h[:2]+h[2:4]) * mle.eval(h[2:4]+h[4:]) * mle.eval(h[:2]+h[4:])\n",
    "    for h in Hypercube(6)\n",
    "])\n",
    "\n",
    "sc = SumcheckProtocol(\n",
    "    verifier=SuperEfficientVerifier(2,lambda x: g.eval(x)),\n",
    "    prover=SuperEfficientProver(g.evals,Felt(0),2),\n",
    "    variables=int(log2(len(g.evals))),\n",
    ")\n",
    "sc.execute()\n",
    "pass"
   ]
  }
 ],
 "metadata": {
  "kernelspec": {
   "display_name": "Python 3",
   "language": "python",
   "name": "python3"
  },
  "language_info": {
   "codemirror_mode": {
    "name": "ipython",
    "version": 3
   },
   "file_extension": ".py",
   "mimetype": "text/x-python",
   "name": "python",
   "nbconvert_exporter": "python",
   "pygments_lexer": "ipython3",
   "version": "3.9.9"
  },
  "orig_nbformat": 4,
  "vscode": {
   "interpreter": {
    "hash": "f04e7604787a59532b6b9b7a69bb5cb7da39774761a4248e15b4f6a7edb1314f"
   }
  }
 },
 "nbformat": 4,
 "nbformat_minor": 2
}
