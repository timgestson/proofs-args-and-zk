{
 "cells": [
  {
   "cell_type": "code",
   "execution_count": 1,
   "metadata": {},
   "outputs": [],
   "source": [
    "from math import log2\n",
    "from util import flatten\n",
    "from felt import Felt\n",
    "from hypercube import Hypercube\n",
    "from mle import MultiLinearExtension\n",
    "from sumcheck import SumcheckProtocol, SuperEfficientProver, SuperEfficientVerifier"
   ]
  },
  {
   "cell_type": "code",
   "execution_count": 2,
   "metadata": {},
   "outputs": [
    {
     "name": "stdout",
     "output_type": "stream",
     "text": [
      "Round 1\n",
      "Round 2 Felt(212892565379185179,2305843009213693951)\n",
      "Verfied!\n"
     ]
    },
    {
     "data": {
      "text/plain": [
       "[Felt(212892565379185179,2305843009213693951),\n",
       " Felt(513962219604624877,2305843009213693951)]"
      ]
     },
     "execution_count": 2,
     "metadata": {},
     "output_type": "execute_result"
    }
   ],
   "source": [
    "a = [[Felt(0), Felt(1)],\n",
    "    [Felt(2), Felt(0)]]\n",
    "b = [[Felt(1), Felt(0)],\n",
    "    [Felt(0), Felt(4)]]\n",
    "c = [[Felt(0), Felt(4)],\n",
    "    [Felt(2), Felt(0)]]\n",
    "n = 2\n",
    "\n",
    "mlea = MultiLinearExtension(flatten(a))\n",
    "mleb = MultiLinearExtension(flatten(b))\n",
    "mlec = MultiLinearExtension(flatten(c))\n",
    "\n",
    "\n",
    "g = MultiLinearExtension([\n",
    "    mlea.eval([hc[0],Felt(0)]) * mleb.eval([Felt(0),hc[1]]) +\n",
    "    mlea.eval([hc[0],Felt(1)]) * mleb.eval([Felt(1),hc[1]])\n",
    "    for hc in Hypercube(n)\n",
    "])\n",
    "\n",
    "fc = MultiLinearExtension([\n",
    "    mlec.eval([hc[0],hc[1]])\n",
    "    for hc in Hypercube(2)\n",
    "])\n",
    "\n",
    "c = fc.hypercube_eval()\n",
    "sc = SumcheckProtocol(\n",
    "    verifier=SuperEfficientVerifier(2,lambda x: g.eval(x)),\n",
    "    prover=SuperEfficientProver(g.evals,c,2),\n",
    "    variables=int(log2(len(g.evals))),\n",
    ")\n",
    "sc.execute()"
   ]
  },
  {
   "cell_type": "code",
   "execution_count": 3,
   "metadata": {},
   "outputs": [
    {
     "name": "stdout",
     "output_type": "stream",
     "text": [
      "Round 1\n",
      "Round 2 Felt(1808044768669136197,2305843009213693951)\n",
      "Round 3 Felt(1396261383884423451,2305843009213693951)\n",
      "Round 4 Felt(1663103431478705399,2305843009213693951)\n",
      "Verfied!\n"
     ]
    },
    {
     "data": {
      "text/plain": [
       "[Felt(1808044768669136197,2305843009213693951),\n",
       " Felt(1396261383884423451,2305843009213693951),\n",
       " Felt(1663103431478705399,2305843009213693951),\n",
       " Felt(427315058694695055,2305843009213693951)]"
      ]
     },
     "execution_count": 3,
     "metadata": {},
     "output_type": "execute_result"
    }
   ],
   "source": [
    "n = 4\n",
    "\n",
    "a = [[Felt.random() for _ in range(n)] for _ in range(n)]\n",
    "b = [[Felt.random() for _ in range(n)] for _ in range(n)]\n",
    "c = [[Felt(0) for _ in range(n)] for _ in range(n)]\n",
    "\n",
    "for i in range(n):\n",
    "    for j in range(n):\n",
    "        for k in range(n):\n",
    "            c[i][j] += a[i][k] * b[k][j]\n",
    "\n",
    "mlea = MultiLinearExtension(flatten(a))\n",
    "mleb = MultiLinearExtension(flatten(b))\n",
    "mlec = MultiLinearExtension(flatten(c))\n",
    "\n",
    "ln = int(log2(len(mlec.evals)))\n",
    "\n",
    "def oracle(rs):\n",
    "    return sum([\n",
    "        mlea.eval(rs[:len(rs)//2]+hc) * \n",
    "        mleb.eval(hc+rs[len(rs)//2:]) \n",
    "        for hc in Hypercube(len(rs)//2)\n",
    "    ],Felt(0))\n",
    "\n",
    "c1 = sum(mlec.evals, Felt(0))\n",
    "sc = SumcheckProtocol(\n",
    "    verifier=SuperEfficientVerifier(2,oracle),\n",
    "    prover=SuperEfficientProver(mlec.evals,c1,2),\n",
    "    variables=ln,\n",
    ")\n",
    "sc.execute()"
   ]
  }
 ],
 "metadata": {
  "kernelspec": {
   "display_name": "Python 3",
   "language": "python",
   "name": "python3"
  },
  "language_info": {
   "codemirror_mode": {
    "name": "ipython",
    "version": 3
   },
   "file_extension": ".py",
   "mimetype": "text/x-python",
   "name": "python",
   "nbconvert_exporter": "python",
   "pygments_lexer": "ipython3",
   "version": "3.9.9"
  },
  "orig_nbformat": 4,
  "vscode": {
   "interpreter": {
    "hash": "f04e7604787a59532b6b9b7a69bb5cb7da39774761a4248e15b4f6a7edb1314f"
   }
  }
 },
 "nbformat": 4,
 "nbformat_minor": 2
}
