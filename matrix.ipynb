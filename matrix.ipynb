{
 "cells": [
  {
   "cell_type": "code",
   "execution_count": 1,
   "metadata": {},
   "outputs": [],
   "source": [
    "from math import log2\n",
    "from util import flatten, hypercube\n",
    "from felt import Felt\n",
    "from mle import MultiLinearExtension\n",
    "from sumcheck import SumcheckProtocol, SumcheckProver, SumcheckVerifier"
   ]
  },
  {
   "cell_type": "code",
   "execution_count": 2,
   "metadata": {},
   "outputs": [
    {
     "name": "stdout",
     "output_type": "stream",
     "text": [
      "Round 1\n",
      "Round 2\n",
      "Verfied!\n"
     ]
    }
   ],
   "source": [
    "a = [[Felt(0), Felt(1)], [Felt(2), Felt(0)]]\n",
    "b = [[Felt(1), Felt(0)], [Felt(0), Felt(4)]]\n",
    "c = [[Felt(0), Felt(4)], [Felt(2), Felt(0)]]\n",
    "n = 2\n",
    "\n",
    "mlea = MultiLinearExtension(flatten(a))\n",
    "mleb = MultiLinearExtension(flatten(b))\n",
    "mlec = MultiLinearExtension(flatten(c))\n",
    "\n",
    "\n",
    "g = MultiLinearExtension(\n",
    "    [\n",
    "        mlea.eval([hc[0], Felt(0)]) * mleb.eval([Felt(0), hc[1]])\n",
    "        + mlea.eval([hc[0], Felt(1)]) * mleb.eval([Felt(1), hc[1]])\n",
    "        for hc in hypercube(n)\n",
    "    ]\n",
    ")\n",
    "\n",
    "fc = MultiLinearExtension([mlec.eval([hc[0], hc[1]]) for hc in hypercube(2)])\n",
    "\n",
    "c = fc.hypercube_eval()\n",
    "sc = SumcheckProtocol(\n",
    "    verifier=SumcheckVerifier(2, lambda x: g.eval(x)),\n",
    "    prover=SumcheckProver(g.evals, c, 2),\n",
    "    variables=int(log2(len(g.evals))),\n",
    ")\n",
    "sc.execute()\n",
    "pass"
   ]
  },
  {
   "cell_type": "code",
   "execution_count": 3,
   "metadata": {},
   "outputs": [
    {
     "name": "stdout",
     "output_type": "stream",
     "text": [
      "Round 1\n",
      "Round 2\n",
      "Round 3\n",
      "Round 4\n",
      "Verfied!\n"
     ]
    }
   ],
   "source": [
    "n = 4\n",
    "\n",
    "a = [[Felt.random() for _ in range(n)] for _ in range(n)]\n",
    "b = [[Felt.random() for _ in range(n)] for _ in range(n)]\n",
    "c = [[Felt(0) for _ in range(n)] for _ in range(n)]\n",
    "\n",
    "for i in range(n):\n",
    "    for j in range(n):\n",
    "        for k in range(n):\n",
    "            c[i][j] += a[i][k] * b[k][j]\n",
    "\n",
    "mlea = MultiLinearExtension(flatten(a))\n",
    "mleb = MultiLinearExtension(flatten(b))\n",
    "mlec = MultiLinearExtension(flatten(c))\n",
    "\n",
    "ln = int(log2(len(mlec.evals)))\n",
    "\n",
    "\n",
    "def oracle(rs):\n",
    "    return sum(\n",
    "        [\n",
    "            mlea.eval(rs[: len(rs) // 2] + hc) * mleb.eval(hc + rs[len(rs) // 2 :])\n",
    "            for hc in hypercube(len(rs) // 2)\n",
    "        ],\n",
    "        Felt(0),\n",
    "    )\n",
    "\n",
    "\n",
    "c1 = sum(mlec.evals, Felt(0))\n",
    "sc = SumcheckProtocol(\n",
    "    verifier=SumcheckVerifier(2, oracle),\n",
    "    prover=SumcheckProver(mlec.evals, c1, 2),\n",
    "    variables=ln,\n",
    ")\n",
    "sc.execute()\n",
    "pass"
   ]
  }
 ],
 "metadata": {
  "kernelspec": {
   "display_name": "Python 3",
   "language": "python",
   "name": "python3"
  },
  "language_info": {
   "codemirror_mode": {
    "name": "ipython",
    "version": 3
   },
   "file_extension": ".py",
   "mimetype": "text/x-python",
   "name": "python",
   "nbconvert_exporter": "python",
   "pygments_lexer": "ipython3",
   "version": "3.9.9"
  },
  "orig_nbformat": 4,
  "vscode": {
   "interpreter": {
    "hash": "f04e7604787a59532b6b9b7a69bb5cb7da39774761a4248e15b4f6a7edb1314f"
   }
  }
 },
 "nbformat": 4,
 "nbformat_minor": 2
}
